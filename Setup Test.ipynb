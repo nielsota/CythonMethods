{
 "cells": [
  {
   "cell_type": "code",
   "execution_count": 2,
   "id": "b1638280",
   "metadata": {},
   "outputs": [],
   "source": [
    "import linalg_level_1"
   ]
  },
  {
   "cell_type": "code",
   "execution_count": null,
   "id": "81b1c976",
   "metadata": {},
   "outputs": [],
   "source": []
  }
 ],
 "metadata": {
  "kernelspec": {
   "display_name": "Python 3 (ipykernel)",
   "language": "python",
   "name": "python3"
  },
  "language_info": {
   "codemirror_mode": {
    "name": "ipython",
    "version": 3
   },
   "file_extension": ".py",
   "mimetype": "text/x-python",
   "name": "python",
   "nbconvert_exporter": "python",
   "pygments_lexer": "ipython3",
   "version": "3.10.1"
  }
 },
 "nbformat": 4,
 "nbformat_minor": 5
}
