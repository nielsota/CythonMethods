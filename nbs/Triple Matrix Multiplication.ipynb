{
 "cells": [
  {
   "cell_type": "code",
   "execution_count": 1,
   "id": "81def40f",
   "metadata": {},
   "outputs": [],
   "source": [
    "import cython"
   ]
  },
  {
   "cell_type": "code",
   "execution_count": 2,
   "id": "b9a82990",
   "metadata": {},
   "outputs": [],
   "source": [
    "%load_ext Cython"
   ]
  },
  {
   "cell_type": "code",
   "execution_count": 92,
   "id": "4efb365c",
   "metadata": {},
   "outputs": [
    {
     "name": "stderr",
     "output_type": "stream",
     "text": [
      "In file included from /Users/nielsota/.ipython/cython/_cython_magic_4708d4c54aeb17eec46d14da12811b0a.c:750:\n",
      "In file included from /Users/nielsota/Downloads/Niels/Academic/Code/CythonMethods/venv/lib/python3.10/site-packages/numpy/core/include/numpy/arrayobject.h:5:\n",
      "In file included from /Users/nielsota/Downloads/Niels/Academic/Code/CythonMethods/venv/lib/python3.10/site-packages/numpy/core/include/numpy/ndarrayobject.h:12:\n",
      "In file included from /Users/nielsota/Downloads/Niels/Academic/Code/CythonMethods/venv/lib/python3.10/site-packages/numpy/core/include/numpy/ndarraytypes.h:1948:\n",
      "/Users/nielsota/Downloads/Niels/Academic/Code/CythonMethods/venv/lib/python3.10/site-packages/numpy/core/include/numpy/npy_1_7_deprecated_api.h:17:2: warning: \"Using deprecated NumPy API, disable it with \"          \"#define NPY_NO_DEPRECATED_API NPY_1_7_API_VERSION\" [-W#warnings]\n",
      "#warning \"Using deprecated NumPy API, disable it with \" \\\n",
      " ^\n",
      "1 warning generated.\n"
     ]
    }
   ],
   "source": [
    "%%cython\n",
    "\n",
    "import cython\n",
    "cimport numpy as np\n",
    "import numpy as np\n",
    "from scipy.linalg.cython_blas cimport dgemm\n",
    "\n",
    "@cython.boundscheck(False)\n",
    "@cython.wraparound(False)\n",
    "cpdef double[::1, :] mm3(double[::1, :] A, double[::1, :] B, double[::1, :] C):\n",
    "    \"\"\"\n",
    "    \n",
    "    \"\"\"\n",
    "    \n",
    "    # step 1: write product of A and B into B\n",
    "    \n",
    "    cdef int m = A.shape[0]\n",
    "    cdef int ka = A.shape[1]\n",
    "    cdef int kb = B.shape[0]\n",
    "    cdef int nb = B.shape[1]\n",
    "    cdef int nc = C.shape[0]\n",
    "    cdef int p = C.shape[1]\n",
    "    \n",
    "    cdef int *LDA = &m\n",
    "    cdef int *LDB = &kb\n",
    "    \n",
    "    cdef double alpha = 1.0\n",
    "    cdef double beta = 0.0\n",
    "    \n",
    "    #assert ka == kb, \"shape mismatch between A and B\"\n",
    "    #assert nb == nc, \"shape mismatch between B and C\"\n",
    "    \n",
    "    cdef double[::1, :] AB = np.empty((m, nb), dtype=np.float64, order='F')\n",
    "    cdef double[::1, :] ABC = np.empty((m, p), dtype=np.float64, order='F')\n",
    "    \n",
    "    # step 1: write product of A and B into B\n",
    "    \n",
    "    dgemm(\"n\", \"n\", &m, &nb, &ka, &alpha, &A[0,0], LDA, &B[0,0], LDB, &beta, &AB[0,0], LDA)\n",
    "    \n",
    "    # step 2: write product of AB (=B) into C\n",
    "    \n",
    "    dgemm(\"n\", \"n\", &m, &p, &nc, &alpha, &AB[0,0], LDA, &C[0,0], LDB, &beta, &ABC[0,0], LDB) \n",
    "    \n",
    "    return ABC\n",
    "\n",
    "@cython.boundscheck(False)\n",
    "@cython.wraparound(False)\n",
    "cpdef double[::1, :] mm3_loop(double[::1, :] A, double[::1, :] B, double[::1, :] C, int loops):\n",
    "    \n",
    "    for i in range(loops):\n",
    "        mm3(A, B, C)\n",
    "    \n",
    "    return mm3(A, B, C)"
   ]
  },
  {
   "cell_type": "code",
   "execution_count": 79,
   "id": "369ac348",
   "metadata": {},
   "outputs": [],
   "source": [
    "def mm3_loop_python(A, B, C, loops):\n",
    "    \n",
    "    for i in range(loops):\n",
    "        np.matmul(A1, np.matmul(A2, A3))\n",
    "    \n",
    "    return np.matmul(A1, np.matmul(A2, A3))"
   ]
  },
  {
   "cell_type": "code",
   "execution_count": 90,
   "id": "a0d5713d",
   "metadata": {},
   "outputs": [],
   "source": [
    "A1 = 2 * np.eye(10, dtype=np.float64, order='F')\n",
    "A2 = np.eye(10, dtype=np.float64, order='F')\n",
    "A3 = 6 * np.eye(10, dtype=np.float64, order='F')"
   ]
  },
  {
   "cell_type": "code",
   "execution_count": 72,
   "id": "e466d2c2",
   "metadata": {},
   "outputs": [
    {
     "data": {
      "text/plain": [
       "array([[12.,  0.,  0.,  0.,  0.,  0.,  0.,  0.,  0.,  0.],\n",
       "       [ 0., 12.,  0.,  0.,  0.,  0.,  0.,  0.,  0.,  0.],\n",
       "       [ 0.,  0., 12.,  0.,  0.,  0.,  0.,  0.,  0.,  0.],\n",
       "       [ 0.,  0.,  0., 12.,  0.,  0.,  0.,  0.,  0.,  0.],\n",
       "       [ 0.,  0.,  0.,  0., 12.,  0.,  0.,  0.,  0.,  0.],\n",
       "       [ 0.,  0.,  0.,  0.,  0., 12.,  0.,  0.,  0.,  0.],\n",
       "       [ 0.,  0.,  0.,  0.,  0.,  0., 12.,  0.,  0.,  0.],\n",
       "       [ 0.,  0.,  0.,  0.,  0.,  0.,  0., 12.,  0.,  0.],\n",
       "       [ 0.,  0.,  0.,  0.,  0.,  0.,  0.,  0., 12.,  0.],\n",
       "       [ 0.,  0.,  0.,  0.,  0.,  0.,  0.,  0.,  0., 12.]])"
      ]
     },
     "execution_count": 72,
     "metadata": {},
     "output_type": "execute_result"
    }
   ],
   "source": [
    "np.asarray(mm3(A1, A2, A3))"
   ]
  },
  {
   "cell_type": "code",
   "execution_count": 73,
   "id": "e281ca1a",
   "metadata": {},
   "outputs": [
    {
     "name": "stdout",
     "output_type": "stream",
     "text": [
      "1.78 µs ± 3.88 ns per loop (mean ± std. dev. of 7 runs, 1,000,000 loops each)\n"
     ]
    }
   ],
   "source": [
    "%timeit mm3(A1, A2, A3)"
   ]
  },
  {
   "cell_type": "code",
   "execution_count": 68,
   "id": "9583aeed",
   "metadata": {},
   "outputs": [
    {
     "name": "stdout",
     "output_type": "stream",
     "text": [
      "1.53 µs ± 1.87 ns per loop (mean ± std. dev. of 7 runs, 1,000,000 loops each)\n"
     ]
    }
   ],
   "source": [
    "%timeit np.matmul(A1, np.matmul(A2, A3))"
   ]
  },
  {
   "cell_type": "code",
   "execution_count": 95,
   "id": "6965c2e0",
   "metadata": {},
   "outputs": [
    {
     "name": "stdout",
     "output_type": "stream",
     "text": [
      "1.17 s ± 8.16 ms per loop (mean ± std. dev. of 7 runs, 1 loop each)\n"
     ]
    }
   ],
   "source": [
    "%timeit mm3_loop(A1, A2, A3, 1000000)"
   ]
  },
  {
   "cell_type": "code",
   "execution_count": 96,
   "id": "afc9c819",
   "metadata": {},
   "outputs": [
    {
     "name": "stdout",
     "output_type": "stream",
     "text": [
      "1.49 s ± 3.98 ms per loop (mean ± std. dev. of 7 runs, 1 loop each)\n"
     ]
    }
   ],
   "source": [
    "%timeit mm3_loop_python(A1, A2, A3, 1000000)"
   ]
  },
  {
   "cell_type": "code",
   "execution_count": null,
   "id": "1b887389",
   "metadata": {},
   "outputs": [],
   "source": []
  }
 ],
 "metadata": {
  "kernelspec": {
   "display_name": "Python 3 (ipykernel)",
   "language": "python",
   "name": "python3"
  },
  "language_info": {
   "codemirror_mode": {
    "name": "ipython",
    "version": 3
   },
   "file_extension": ".py",
   "mimetype": "text/x-python",
   "name": "python",
   "nbconvert_exporter": "python",
   "pygments_lexer": "ipython3",
   "version": "3.10.1"
  }
 },
 "nbformat": 4,
 "nbformat_minor": 5
}
